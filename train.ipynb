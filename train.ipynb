{
 "cells": [
  {
   "cell_type": "code",
   "execution_count": 1,
   "metadata": {},
   "outputs": [],
   "source": [
    "from __future__ import absolute_import\n",
    "from __future__ import division\n",
    "from __future__ import print_function"
   ]
  },
  {
   "cell_type": "code",
   "execution_count": 2,
   "metadata": {},
   "outputs": [],
   "source": [
    "import os\n",
    "import sys"
   ]
  },
  {
   "cell_type": "code",
   "execution_count": 3,
   "metadata": {},
   "outputs": [],
   "source": [
    "import yaml\n",
    "import paddle\n",
    "import paddle.distributed as dist"
   ]
  },
  {
   "cell_type": "code",
   "execution_count": 4,
   "metadata": {},
   "outputs": [],
   "source": [
    "if '__file__' in globals():\n",
    "    __dir__ = os.path.dirname(os.path.abspath(__file__))\n",
    "    sys.path.append(__dir__)\n",
    "    sys.path.insert(0, os.path.abspath(os.path.join(__dir__, '..')))\n",
    "else:\n",
    "    # Handle the case where __file__ is not defined\n",
    "    pass"
   ]
  },
  {
   "cell_type": "code",
   "execution_count": 6,
   "metadata": {},
   "outputs": [],
   "source": [
    "from ppocr.data import build_dataloader, set_signal_handlers\n",
    "from ppocr.modeling.architectures import build_model\n",
    "from ppocr.losses import build_loss\n",
    "from ppocr.optimizer import build_optimizer\n",
    "from ppocr.postprocess import build_post_process\n",
    "from ppocr.metrics import build_metric\n",
    "from ppocr.utils.save_load import load_model\n",
    "from ppocr.utils.utility import set_seed\n",
    "from ppocr.modeling.architectures import apply_to_static\n",
    "from ppocr.utils.logging import get_logger\n",
    "from ppocr.utils.loggers import VDLLogger, WandbLogger, Loggers\n",
    "from ppocr.utils.utility import print_dict, AverageMeter\n",
    "import tools.program as program"
   ]
  },
  {
   "cell_type": "code",
   "execution_count": 7,
   "metadata": {},
   "outputs": [
    {
     "data": {
      "text/plain": [
       "1"
      ]
     },
     "execution_count": 7,
     "metadata": {},
     "output_type": "execute_result"
    }
   ],
   "source": [
    "dist.get_world_size()"
   ]
  },
  {
   "cell_type": "code",
   "execution_count": 8,
   "metadata": {},
   "outputs": [],
   "source": [
    "def test_reader(config, device, logger):\n",
    "    loader = build_dataloader(config, 'Train', device, logger)\n",
    "    import time\n",
    "    starttime = time.time()\n",
    "    count = 0\n",
    "    try:\n",
    "        for data in loader():\n",
    "            count += 1\n",
    "            if count % 1 == 0:\n",
    "                batch_time = time.time() - starttime\n",
    "                starttime = time.time()\n",
    "                logger.info(\"reader: {}, {}, {}\".format(\n",
    "                    count, len(data[0]), batch_time))\n",
    "    except Exception as e:\n",
    "        logger.info(e)\n",
    "    logger.info(\"finish reader: {}, Success!\".format(count))"
   ]
  },
  {
   "cell_type": "code",
   "execution_count": 9,
   "metadata": {},
   "outputs": [],
   "source": [
    "from argparse import ArgumentParser, RawDescriptionHelpFormatter"
   ]
  },
  {
   "cell_type": "code",
   "execution_count": 10,
   "metadata": {},
   "outputs": [],
   "source": [
    "def load_config(file_path):\n",
    "    _, ext = os.path.splitext(file_path)\n",
    "    assert ext in ['.yml', '.yaml'], \"only support yaml files for now\"\n",
    "    config = yaml.load(open(file_path, 'rb'), Loader=yaml.Loader)\n",
    "    return config"
   ]
  },
  {
   "cell_type": "code",
   "execution_count": 11,
   "metadata": {},
   "outputs": [],
   "source": [
    "class ArgsParser(ArgumentParser):\n",
    "    def __init__(self):\n",
    "        super(ArgsParser, self).__init__(\n",
    "            formatter_class=RawDescriptionHelpFormatter)\n",
    "        self.add_argument(\"-c\", \"--config\", help=\"configuration file to use\")\n",
    "        self.add_argument(\n",
    "            \"-o\", \"--opt\", nargs='+', help=\"set configuration options\")\n",
    "        self.add_argument(\n",
    "            '-p',\n",
    "            '--profiler_options',\n",
    "            type=str,\n",
    "            default=None,\n",
    "            help='The option of profiler, which should be in format ' \\\n",
    "                 '\\\"key1=value1;key2=value2;key3=value3\\\".'\n",
    "        )\n",
    "\n",
    "    def parse_args(self, default_config_path, argv=None):\n",
    "        if 'ipykernel_launcher' in sys.argv[0]:\n",
    "            args, _ = super(ArgsParser, self).parse_known_args(argv)\n",
    "            args.config = default_config_path\n",
    "            args.opt = self._parse_opt(args.opt)\n",
    "            return args\n",
    "        \n",
    "        args = super(ArgsParser, self).parse_args(argv)\n",
    "        assert args.config is not None, \"Please specify --config=configure_file_path.\"\n",
    "        args.opt = self._parse_opt(args.opt)\n",
    "        return args\n",
    "\n",
    "    def _parse_opt(self, opts):\n",
    "        config = {}\n",
    "        if not opts:\n",
    "            return config\n",
    "        for s in opts:\n",
    "            s = s.strip()\n",
    "            k, v = s.split('=')\n",
    "            config[k] = yaml.load(v, Loader=yaml.Loader)\n",
    "        return config\n"
   ]
  },
  {
   "cell_type": "code",
   "execution_count": 12,
   "metadata": {},
   "outputs": [],
   "source": [
    "def merge_config(config, opts):\n",
    "    \"\"\"\n",
    "    Merge config into global config.\n",
    "    Args:\n",
    "        config (dict): Config to be merged.\n",
    "    Returns: global config\n",
    "    \"\"\"\n",
    "    for key, value in opts.items():\n",
    "        if \".\" not in key:\n",
    "            if isinstance(value, dict) and key in config:\n",
    "                config[key].update(value)\n",
    "            else:\n",
    "                config[key] = value\n",
    "        else:\n",
    "            sub_keys = key.split('.')\n",
    "            assert (\n",
    "                sub_keys[0] in config\n",
    "            ), \"the sub_keys can only be one of global_config: {}, but get: \" \\\n",
    "               \"{}, please check your running command\".format(\n",
    "                config.keys(), sub_keys[0])\n",
    "            cur = config[sub_keys[0]]\n",
    "            for idx, sub_key in enumerate(sub_keys[1:]):\n",
    "                if idx == len(sub_keys) - 2:\n",
    "                    cur[sub_key] = value\n",
    "                else:\n",
    "                    cur = cur[sub_key]\n",
    "    return config\n"
   ]
  },
  {
   "cell_type": "code",
   "execution_count": 13,
   "metadata": {},
   "outputs": [],
   "source": [
    "def check_device(use_gpu, use_xpu=False, use_npu=False, use_mlu=False):\n",
    "    \"\"\"\n",
    "    Log error and exit when set use_gpu=true in paddlepaddle\n",
    "    cpu version.\n",
    "    \"\"\"\n",
    "    err = \"Config {} cannot be set as true while your paddle \" \\\n",
    "          \"is not compiled with {} ! \\nPlease try: \\n\" \\\n",
    "          \"\\t1. Install paddlepaddle to run model on {} \\n\" \\\n",
    "          \"\\t2. Set {} as false in config file to run \" \\\n",
    "          \"model on CPU\"\n",
    "\n",
    "    try:\n",
    "        if use_gpu and use_xpu:\n",
    "            print(\"use_xpu and use_gpu can not both be ture.\")\n",
    "        if use_gpu and not paddle.is_compiled_with_cuda():\n",
    "            print(err.format(\"use_gpu\", \"cuda\", \"gpu\", \"use_gpu\"))\n",
    "            sys.exit(1)\n",
    "        if use_xpu and not paddle.device.is_compiled_with_xpu():\n",
    "            print(err.format(\"use_xpu\", \"xpu\", \"xpu\", \"use_xpu\"))\n",
    "            sys.exit(1)\n",
    "        if use_npu:\n",
    "            if int(paddle.version.major) != 0 and int(\n",
    "                    paddle.version.major) <= 2 and int(\n",
    "                        paddle.version.minor) <= 4:\n",
    "                if not paddle.device.is_compiled_with_npu():\n",
    "                    print(err.format(\"use_npu\", \"npu\", \"npu\", \"use_npu\"))\n",
    "                    sys.exit(1)\n",
    "            # is_compiled_with_npu() has been updated after paddle-2.4\n",
    "            else:\n",
    "                if not paddle.device.is_compiled_with_custom_device(\"npu\"):\n",
    "                    print(err.format(\"use_npu\", \"npu\", \"npu\", \"use_npu\"))\n",
    "                    sys.exit(1)\n",
    "        if use_mlu and not paddle.device.is_compiled_with_mlu():\n",
    "            print(err.format(\"use_mlu\", \"mlu\", \"mlu\", \"use_mlu\"))\n",
    "            sys.exit(1)\n",
    "    except Exception as e:\n",
    "        pass\n"
   ]
  },
  {
   "cell_type": "code",
   "execution_count": 20,
   "metadata": {},
   "outputs": [],
   "source": [
    "def preprocess(default_config_path, is_train=False):\n",
    "    # default_config_path = 'tools/cls_mv3.yml'\n",
    "    FLAGS = ArgsParser().parse_args(default_config_path)\n",
    "    profiler_options = FLAGS.profiler_options\n",
    "    config = load_config(FLAGS.config)\n",
    "    config = merge_config(config, FLAGS.opt)\n",
    "    profile_dic = {\"profiler_options\": FLAGS.profiler_options}\n",
    "    config = merge_config(config, profile_dic)\n",
    "\n",
    "    if is_train:\n",
    "        # save_config\n",
    "        save_model_dir = config['Global']['save_model_dir']\n",
    "        os.makedirs(save_model_dir, exist_ok=True)\n",
    "        with open(os.path.join(save_model_dir, 'config.yml'), 'w') as f:\n",
    "            yaml.dump(\n",
    "                dict(config), f, default_flow_style=False, sort_keys=False)\n",
    "        log_file = '{}/train.log'.format(save_model_dir)\n",
    "    else:\n",
    "        log_file = None\n",
    "    logger = get_logger(log_file=log_file)\n",
    "\n",
    "    # check if set use_gpu=True in paddlepaddle cpu version\n",
    "    use_gpu = config['Global'].get('use_gpu', False)\n",
    "    use_xpu = config['Global'].get('use_xpu', False)\n",
    "    use_npu = config['Global'].get('use_npu', False)\n",
    "    use_mlu = config['Global'].get('use_mlu', False)\n",
    "\n",
    "    alg = config['Architecture']['algorithm']\n",
    "    assert alg in [\n",
    "        'EAST', 'DB', 'SAST', 'Rosetta', 'CRNN', 'STARNet', 'RARE', 'SRN',\n",
    "        'CLS', 'PGNet', 'Distillation', 'NRTR', 'TableAttn', 'SAR', 'PSE',\n",
    "        'SEED', 'SDMGR', 'LayoutXLM', 'LayoutLM', 'LayoutLMv2', 'PREN', 'FCE',\n",
    "        'SVTR', 'SVTR_LCNet', 'ViTSTR', 'ABINet', 'DB++', 'TableMaster', 'SPIN',\n",
    "        'VisionLAN', 'Gestalt', 'SLANet', 'RobustScanner', 'CT', 'RFL', 'DRRG',\n",
    "        'CAN', 'Telescope', 'SATRN', 'SVTR_HGNet'\n",
    "    ]\n",
    "\n",
    "    if use_xpu:\n",
    "        device = 'xpu:{0}'.format(os.getenv('FLAGS_selected_xpus', 0))\n",
    "    elif use_npu:\n",
    "        device = 'npu:{0}'.format(os.getenv('FLAGS_selected_npus', 0))\n",
    "    elif use_mlu:\n",
    "        device = 'mlu:{0}'.format(os.getenv('FLAGS_selected_mlus', 0))\n",
    "    else:\n",
    "        device = 'gpu:{}'.format(dist.ParallelEnv()\n",
    "                                 .dev_id) if use_gpu else 'cpu'\n",
    "    check_device(use_gpu, use_xpu, use_npu, use_mlu)\n",
    "\n",
    "    device = paddle.set_device(device)\n",
    "\n",
    "    config['Global']['distributed'] = dist.get_world_size() != 1\n",
    "\n",
    "    loggers = []\n",
    "\n",
    "    if 'use_visualdl' in config['Global'] and config['Global']['use_visualdl']:\n",
    "        save_model_dir = config['Global']['save_model_dir']\n",
    "        vdl_writer_path = save_model_dir\n",
    "        log_writer = VDLLogger(vdl_writer_path)\n",
    "        loggers.append(log_writer)\n",
    "    if ('use_wandb' in config['Global'] and\n",
    "            config['Global']['use_wandb']) or 'wandb' in config:\n",
    "        save_dir = config['Global']['save_model_dir']\n",
    "        wandb_writer_path = \"{}/wandb\".format(save_dir)\n",
    "        if \"wandb\" in config:\n",
    "            wandb_params = config['wandb']\n",
    "        else:\n",
    "            wandb_params = dict()\n",
    "        wandb_params.update({'save_dir': save_dir})\n",
    "        log_writer = WandbLogger(**wandb_params, config=config)\n",
    "        loggers.append(log_writer)\n",
    "    else:\n",
    "        log_writer = None\n",
    "    print_dict(config, logger)\n",
    "\n",
    "    if loggers:\n",
    "        log_writer = Loggers(loggers)\n",
    "    else:\n",
    "        log_writer = None\n",
    "\n",
    "    logger.info('train with paddle {} and device {}'.format(paddle.__version__,\n",
    "                                                            device))\n",
    "    return config, device, logger, log_writer\n"
   ]
  },
  {
   "cell_type": "code",
   "execution_count": 21,
   "metadata": {},
   "outputs": [
    {
     "name": "stdout",
     "output_type": "stream",
     "text": [
      "[2023/12/01 09:18:34] ppocr INFO: Architecture : \n",
      "[2023/12/01 09:18:34] ppocr INFO:     Backbone : \n",
      "[2023/12/01 09:18:34] ppocr INFO:         model_name : small\n",
      "[2023/12/01 09:18:34] ppocr INFO:         name : MobileNetV3\n",
      "[2023/12/01 09:18:34] ppocr INFO:         scale : 0.35\n",
      "[2023/12/01 09:18:34] ppocr INFO:     Head : \n",
      "[2023/12/01 09:18:34] ppocr INFO:         class_dim : 2\n",
      "[2023/12/01 09:18:34] ppocr INFO:         name : ClsHead\n",
      "[2023/12/01 09:18:34] ppocr INFO:     Neck : None\n",
      "[2023/12/01 09:18:34] ppocr INFO:     Transform : None\n",
      "[2023/12/01 09:18:34] ppocr INFO:     algorithm : CLS\n",
      "[2023/12/01 09:18:34] ppocr INFO:     model_type : cls\n",
      "[2023/12/01 09:18:34] ppocr INFO: Eval : \n",
      "[2023/12/01 09:18:34] ppocr INFO:     dataset : \n",
      "[2023/12/01 09:18:34] ppocr INFO:         data_dir : ./train_data/cls\n",
      "[2023/12/01 09:18:34] ppocr INFO:         label_file_list : ['./train_data/cls/test.txt']\n",
      "[2023/12/01 09:18:34] ppocr INFO:         name : SimpleDataSet\n",
      "[2023/12/01 09:18:34] ppocr INFO:         transforms : \n",
      "[2023/12/01 09:18:34] ppocr INFO:             DecodeImage : \n",
      "[2023/12/01 09:18:34] ppocr INFO:                 channel_first : False\n",
      "[2023/12/01 09:18:34] ppocr INFO:                 img_mode : BGR\n",
      "[2023/12/01 09:18:34] ppocr INFO:             ClsLabelEncode : None\n",
      "[2023/12/01 09:18:34] ppocr INFO:             ClsResizeImg : \n",
      "[2023/12/01 09:18:34] ppocr INFO:                 image_shape : [3, 48, 192]\n",
      "[2023/12/01 09:18:34] ppocr INFO:             KeepKeys : \n",
      "[2023/12/01 09:18:34] ppocr INFO:                 keep_keys : ['image', 'label']\n",
      "[2023/12/01 09:18:34] ppocr INFO:     loader : \n",
      "[2023/12/01 09:18:34] ppocr INFO:         batch_size_per_card : 512\n",
      "[2023/12/01 09:18:34] ppocr INFO:         drop_last : False\n",
      "[2023/12/01 09:18:34] ppocr INFO:         num_workers : 4\n",
      "[2023/12/01 09:18:34] ppocr INFO:         shuffle : False\n",
      "[2023/12/01 09:18:34] ppocr INFO: Global : \n",
      "[2023/12/01 09:18:34] ppocr INFO:     cal_metric_during_train : True\n",
      "[2023/12/01 09:18:34] ppocr INFO:     checkpoints : None\n",
      "[2023/12/01 09:18:34] ppocr INFO:     distributed : False\n",
      "[2023/12/01 09:18:34] ppocr INFO:     epoch_num : 100\n",
      "[2023/12/01 09:18:34] ppocr INFO:     eval_batch_step : [0, 1000]\n"
     ]
    },
    {
     "name": "stdout",
     "output_type": "stream",
     "text": [
      "[2023/12/01 09:18:34] ppocr INFO:     infer_img : doc/imgs_words_en/word_10.png\n",
      "[2023/12/01 09:18:34] ppocr INFO:     label_list : ['0', '180']\n",
      "[2023/12/01 09:18:34] ppocr INFO:     log_smooth_window : 20\n",
      "[2023/12/01 09:18:34] ppocr INFO:     pretrained_model : None\n",
      "[2023/12/01 09:18:34] ppocr INFO:     print_batch_step : 10\n",
      "[2023/12/01 09:18:34] ppocr INFO:     save_epoch_step : 3\n",
      "[2023/12/01 09:18:34] ppocr INFO:     save_inference_dir : None\n",
      "[2023/12/01 09:18:34] ppocr INFO:     save_model_dir : ./output/cls/mv3/\n",
      "[2023/12/01 09:18:34] ppocr INFO:     use_gpu : True\n",
      "[2023/12/01 09:18:34] ppocr INFO:     use_visualdl : False\n",
      "[2023/12/01 09:18:34] ppocr INFO: Loss : \n",
      "[2023/12/01 09:18:34] ppocr INFO:     name : ClsLoss\n",
      "[2023/12/01 09:18:34] ppocr INFO: Metric : \n",
      "[2023/12/01 09:18:34] ppocr INFO:     main_indicator : acc\n",
      "[2023/12/01 09:18:34] ppocr INFO:     name : ClsMetric\n",
      "[2023/12/01 09:18:34] ppocr INFO: Optimizer : \n",
      "[2023/12/01 09:18:34] ppocr INFO:     beta1 : 0.9\n",
      "[2023/12/01 09:18:34] ppocr INFO:     beta2 : 0.999\n",
      "[2023/12/01 09:18:34] ppocr INFO:     lr : \n",
      "[2023/12/01 09:18:34] ppocr INFO:         learning_rate : 0.001\n",
      "[2023/12/01 09:18:34] ppocr INFO:         name : Cosine\n",
      "[2023/12/01 09:18:34] ppocr INFO:     name : Adam\n",
      "[2023/12/01 09:18:34] ppocr INFO:     regularizer : \n",
      "[2023/12/01 09:18:34] ppocr INFO:         factor : 0\n",
      "[2023/12/01 09:18:34] ppocr INFO:         name : L2\n",
      "[2023/12/01 09:18:34] ppocr INFO: PostProcess : \n",
      "[2023/12/01 09:18:34] ppocr INFO:     name : ClsPostProcess\n",
      "[2023/12/01 09:18:34] ppocr INFO: Train : \n",
      "[2023/12/01 09:18:34] ppocr INFO:     dataset : \n",
      "[2023/12/01 09:18:34] ppocr INFO:         data_dir : ./train_data/cls\n",
      "[2023/12/01 09:18:34] ppocr INFO:         label_file_list : ['./train_data/cls/train.txt']\n",
      "[2023/12/01 09:18:34] ppocr INFO:         name : SimpleDataSet\n",
      "[2023/12/01 09:18:34] ppocr INFO:         transforms : \n",
      "[2023/12/01 09:18:34] ppocr INFO:             DecodeImage : \n",
      "[2023/12/01 09:18:34] ppocr INFO:                 channel_first : False\n",
      "[2023/12/01 09:18:34] ppocr INFO:                 img_mode : BGR\n",
      "[2023/12/01 09:18:34] ppocr INFO:             ClsLabelEncode : None\n",
      "[2023/12/01 09:18:34] ppocr INFO:             BaseDataAugmentation : None\n",
      "[2023/12/01 09:18:34] ppocr INFO:             RandAugment : None\n",
      "[2023/12/01 09:18:34] ppocr INFO:             ClsResizeImg : \n",
      "[2023/12/01 09:18:34] ppocr INFO:                 image_shape : [3, 48, 192]\n",
      "[2023/12/01 09:18:34] ppocr INFO:             KeepKeys : \n",
      "[2023/12/01 09:18:34] ppocr INFO:                 keep_keys : ['image', 'label']\n",
      "[2023/12/01 09:18:34] ppocr INFO:     loader : \n",
      "[2023/12/01 09:18:34] ppocr INFO:         batch_size_per_card : 512\n",
      "[2023/12/01 09:18:34] ppocr INFO:         drop_last : True\n",
      "[2023/12/01 09:18:34] ppocr INFO:         num_workers : 8\n",
      "[2023/12/01 09:18:34] ppocr INFO:         shuffle : True\n",
      "[2023/12/01 09:18:34] ppocr INFO: profiler_options : None\n",
      "[2023/12/01 09:18:34] ppocr INFO: train with paddle 2.4.0 and device Place(gpu:0)\n"
     ]
    }
   ],
   "source": [
    "default_config_path = \"tools/cls_mv3.yml\"\n",
    "config, device, logger, vdl_writer = preprocess(default_config_path, is_train=True, )"
   ]
  },
  {
   "cell_type": "code",
   "execution_count": 26,
   "metadata": {},
   "outputs": [],
   "source": [
    "seed = config['Global']['seed'] if 'seed' in config['Global'] else 1024\n",
    "set_seed(seed)"
   ]
  },
  {
   "cell_type": "code",
   "execution_count": 27,
   "metadata": {},
   "outputs": [
    {
     "name": "stdout",
     "output_type": "stream",
     "text": [
      "[2023/12/01 09:21:19] ppocr INFO: Initialize indexs of datasets:['./train_data/cls/train.txt']\n"
     ]
    },
    {
     "ename": "FileNotFoundError",
     "evalue": "[Errno 2] No such file or directory: './train_data/cls/train.txt'",
     "output_type": "error",
     "traceback": [
      "\u001b[1;31m---------------------------------------------------------------------------\u001b[0m",
      "\u001b[1;31mFileNotFoundError\u001b[0m                         Traceback (most recent call last)",
      "\u001b[1;32mc:\\Users\\Ramki\\Music\\mlrun_tuto\\PaddleOCR\\train.ipynb Cell 16\u001b[0m line \u001b[0;36m1\n\u001b[1;32m----> <a href='vscode-notebook-cell:/c%3A/Users/Ramki/Music/mlrun_tuto/PaddleOCR/train.ipynb#X33sZmlsZQ%3D%3D?line=0'>1</a>\u001b[0m test_reader(config, device, logger)\n",
      "\u001b[1;32mc:\\Users\\Ramki\\Music\\mlrun_tuto\\PaddleOCR\\train.ipynb Cell 16\u001b[0m line \u001b[0;36m2\n\u001b[0;32m      <a href='vscode-notebook-cell:/c%3A/Users/Ramki/Music/mlrun_tuto/PaddleOCR/train.ipynb#X33sZmlsZQ%3D%3D?line=0'>1</a>\u001b[0m \u001b[39mdef\u001b[39;00m \u001b[39mtest_reader\u001b[39m(config, device, logger):\n\u001b[1;32m----> <a href='vscode-notebook-cell:/c%3A/Users/Ramki/Music/mlrun_tuto/PaddleOCR/train.ipynb#X33sZmlsZQ%3D%3D?line=1'>2</a>\u001b[0m     loader \u001b[39m=\u001b[39m build_dataloader(config, \u001b[39m'\u001b[39;49m\u001b[39mTrain\u001b[39;49m\u001b[39m'\u001b[39;49m, device, logger)\n\u001b[0;32m      <a href='vscode-notebook-cell:/c%3A/Users/Ramki/Music/mlrun_tuto/PaddleOCR/train.ipynb#X33sZmlsZQ%3D%3D?line=2'>3</a>\u001b[0m     \u001b[39mimport\u001b[39;00m \u001b[39mtime\u001b[39;00m\n\u001b[0;32m      <a href='vscode-notebook-cell:/c%3A/Users/Ramki/Music/mlrun_tuto/PaddleOCR/train.ipynb#X33sZmlsZQ%3D%3D?line=3'>4</a>\u001b[0m     starttime \u001b[39m=\u001b[39m time\u001b[39m.\u001b[39mtime()\n",
      "File \u001b[1;32mc:\\Users\\Ramki\\Music\\mlrun_tuto\\PaddleOCR\\ppocr\\data\\__init__.py:107\u001b[0m, in \u001b[0;36mbuild_dataloader\u001b[1;34m(config, mode, device, logger, seed)\u001b[0m\n\u001b[0;32m    102\u001b[0m \u001b[39massert\u001b[39;00m module_name \u001b[39min\u001b[39;00m support_dict, \u001b[39mException\u001b[39;00m(\n\u001b[0;32m    103\u001b[0m     \u001b[39m'\u001b[39m\u001b[39mDataSet only support \u001b[39m\u001b[39m{}\u001b[39;00m\u001b[39m'\u001b[39m\u001b[39m.\u001b[39mformat(support_dict))\n\u001b[0;32m    104\u001b[0m \u001b[39massert\u001b[39;00m mode \u001b[39min\u001b[39;00m [\u001b[39m'\u001b[39m\u001b[39mTrain\u001b[39m\u001b[39m'\u001b[39m, \u001b[39m'\u001b[39m\u001b[39mEval\u001b[39m\u001b[39m'\u001b[39m, \u001b[39m'\u001b[39m\u001b[39mTest\u001b[39m\u001b[39m'\u001b[39m\n\u001b[0;32m    105\u001b[0m                 ], \u001b[39m\"\u001b[39m\u001b[39mMode should be Train, Eval or Test.\u001b[39m\u001b[39m\"\u001b[39m\n\u001b[1;32m--> 107\u001b[0m dataset \u001b[39m=\u001b[39m \u001b[39meval\u001b[39;49m(module_name)(config, mode, logger, seed)\n\u001b[0;32m    108\u001b[0m loader_config \u001b[39m=\u001b[39m config[mode][\u001b[39m'\u001b[39m\u001b[39mloader\u001b[39m\u001b[39m'\u001b[39m]\n\u001b[0;32m    109\u001b[0m batch_size \u001b[39m=\u001b[39m loader_config[\u001b[39m'\u001b[39m\u001b[39mbatch_size_per_card\u001b[39m\u001b[39m'\u001b[39m]\n",
      "File \u001b[1;32mc:\\Users\\Ramki\\Music\\mlrun_tuto\\PaddleOCR\\ppocr\\data\\simple_dataset.py:49\u001b[0m, in \u001b[0;36mSimpleDataSet.__init__\u001b[1;34m(self, config, mode, logger, seed)\u001b[0m\n\u001b[0;32m     47\u001b[0m \u001b[39mself\u001b[39m\u001b[39m.\u001b[39mseed \u001b[39m=\u001b[39m seed\n\u001b[0;32m     48\u001b[0m logger\u001b[39m.\u001b[39minfo(\u001b[39m\"\u001b[39m\u001b[39mInitialize indexs of datasets:\u001b[39m\u001b[39m%s\u001b[39;00m\u001b[39m\"\u001b[39m \u001b[39m%\u001b[39m label_file_list)\n\u001b[1;32m---> 49\u001b[0m \u001b[39mself\u001b[39m\u001b[39m.\u001b[39mdata_lines \u001b[39m=\u001b[39m \u001b[39mself\u001b[39;49m\u001b[39m.\u001b[39;49mget_image_info_list(label_file_list, ratio_list)\n\u001b[0;32m     50\u001b[0m \u001b[39mself\u001b[39m\u001b[39m.\u001b[39mdata_idx_order_list \u001b[39m=\u001b[39m \u001b[39mlist\u001b[39m(\u001b[39mrange\u001b[39m(\u001b[39mlen\u001b[39m(\u001b[39mself\u001b[39m\u001b[39m.\u001b[39mdata_lines)))\n\u001b[0;32m     51\u001b[0m \u001b[39mif\u001b[39;00m \u001b[39mself\u001b[39m\u001b[39m.\u001b[39mmode \u001b[39m==\u001b[39m \u001b[39m\"\u001b[39m\u001b[39mtrain\u001b[39m\u001b[39m\"\u001b[39m \u001b[39mand\u001b[39;00m \u001b[39mself\u001b[39m\u001b[39m.\u001b[39mdo_shuffle:\n",
      "File \u001b[1;32mc:\\Users\\Ramki\\Music\\mlrun_tuto\\PaddleOCR\\ppocr\\data\\simple_dataset.py:83\u001b[0m, in \u001b[0;36mSimpleDataSet.get_image_info_list\u001b[1;34m(self, file_list, ratio_list)\u001b[0m\n\u001b[0;32m     81\u001b[0m data_lines \u001b[39m=\u001b[39m []\n\u001b[0;32m     82\u001b[0m \u001b[39mfor\u001b[39;00m idx, file \u001b[39min\u001b[39;00m \u001b[39menumerate\u001b[39m(file_list):\n\u001b[1;32m---> 83\u001b[0m     \u001b[39mwith\u001b[39;00m \u001b[39mopen\u001b[39;49m(file, \u001b[39m\"\u001b[39;49m\u001b[39mrb\u001b[39;49m\u001b[39m\"\u001b[39;49m) \u001b[39mas\u001b[39;00m f:\n\u001b[0;32m     84\u001b[0m         lines \u001b[39m=\u001b[39m f\u001b[39m.\u001b[39mreadlines()\n\u001b[0;32m     85\u001b[0m         \u001b[39mif\u001b[39;00m \u001b[39mself\u001b[39m\u001b[39m.\u001b[39mmode \u001b[39m==\u001b[39m \u001b[39m\"\u001b[39m\u001b[39mtrain\u001b[39m\u001b[39m\"\u001b[39m \u001b[39mor\u001b[39;00m ratio_list[idx] \u001b[39m<\u001b[39m \u001b[39m1.0\u001b[39m:\n",
      "\u001b[1;31mFileNotFoundError\u001b[0m: [Errno 2] No such file or directory: './train_data/cls/train.txt'"
     ]
    }
   ],
   "source": [
    "test_reader(config, device, logger)"
   ]
  }
 ],
 "metadata": {
  "kernelspec": {
   "display_name": "my_ocr_env",
   "language": "python",
   "name": "python3"
  },
  "language_info": {
   "codemirror_mode": {
    "name": "ipython",
    "version": 3
   },
   "file_extension": ".py",
   "mimetype": "text/x-python",
   "name": "python",
   "nbconvert_exporter": "python",
   "pygments_lexer": "ipython3",
   "version": "3.9.7"
  }
 },
 "nbformat": 4,
 "nbformat_minor": 2
}
